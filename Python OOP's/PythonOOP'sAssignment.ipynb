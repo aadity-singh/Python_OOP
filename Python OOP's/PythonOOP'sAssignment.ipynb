{
 "cells": [
  {
   "cell_type": "markdown",
   "id": "b371c28d-3ffc-4ac2-b37f-77c38388de40",
   "metadata": {},
   "source": [
    "Python OOP's Questions:-"
   ]
  },
  {
   "cell_type": "markdown",
   "id": "6925f650-cca5-4a48-b93f-78787300c35f",
   "metadata": {},
   "source": [
    "1. What is Object-Oriented Programming (OOP)?\n",
    "   -> Object-Oriented Programming (OOP) is a programming paradigm that organizes software design around objects, which represent real-world          entities. These objects contain data (attributes or properties) and behaviors (methods or functions).OOP is based on four main principles:\n",
    "      1-Encapsulation\n",
    "      2-Inheritance\n",
    "      3-Polymorphism\n",
    "      4-Abstraction\n",
    "      Benefits of OOP:\n",
    "      1-Modularity: Code is organized into objects, making it easier to manage and understand.\n",
    "      2-Reusability: Inheritance and modular design facilitate code reuse.\n",
    "      3-Scalability: OOP makes it easier to scale applications by adding new objects or features.\n",
    "      4-Maintainability: Encapsulation ensures that changes in one part of the code do not affect others unnecessarily."
   ]
  },
  {
   "cell_type": "markdown",
   "id": "3617d818-7650-40e5-ad64-5b82adb623b8",
   "metadata": {},
   "source": [
    "2.What is a class in OOP?\n",
    "  -> In Object-Oriented Programming (OOP), a class is a blueprint or template for creating objects. It defines the structure and behavior that        the objects (instances) created from the class will have.\n",
    "     Example:-  class Car:\n",
    "                    def __init__(self, brand, model, year):\n",
    "                        self.brand = brand  \n",
    "                        self.model = model  \n",
    "                        self.year = year   \n",
    "                    def start(self):  \n",
    "                        return f\"The {self.brand} {self.model} starts!\"\n",
    "                    def stop(self): \n",
    "                        return f\"The {self.brand} {self.model} stops!\"\n",
    "                car1 = Car(\"Toyota\", \"Corolla\", 2020)\n",
    "                car2 = Car(\"Honda\", \"Civic\", 2019)\n",
    "                print(car1.start())  \n",
    "                print(car2.stop())   \n"
   ]
  },
  {
   "cell_type": "markdown",
   "id": "878f4e5d-3f25-4e18-beef-8cb98eeaa8c5",
   "metadata": {},
   "source": [
    "3.What is an object in OOP?\n",
    "  -> In Object-Oriented Programming (OOP), an object is an instance of a class. It represents a specific entity in the program and serves as      the building block of OOP.Objects are created using the blueprint provided by the class and contain both data (attributes or                 properties) and behavior (methods or functions).\n",
    "     Example: \n",
    "         class Car:\n",
    "            def __init__(self, brand, model, year):\n",
    "                self.brand = brand\n",
    "                self.model = model\n",
    "                self.year = year\n",
    "            def start(self):\n",
    "                return f\"The {self.brand} {self.model} is starting.\"\n",
    "            def stop(self):\n",
    "                return f\"The {self.brand} {self.model} has stopped.\"\n",
    "        car1 = Car(\"Toyota\", \"Corolla\", 2020)\n",
    "        car2 = Car(\"Honda\", \"Civic\", 2019)\n",
    "        print(car1.start())  \n",
    "        print(car2.stop())   \n"
   ]
  },
  {
   "cell_type": "markdown",
   "id": "373c2e73-82fa-4e1f-b7c4-dae3466973c0",
   "metadata": {},
   "source": [
    "4. What is the difference between abstraction and encapsulation?\n",
    "   ->Abstraction is the process of hiding implementation details and exposing only the essential features of an object or system.Its purpose      is to reduce complexity by focusing on what an object does rather than how it does it.It provides a clear interface or contract for          interacting with an object or system.Achieved using abstract classes, interfaces, or methods.\n",
    "     Encapsulation is the process of bundling data (attributes) and methods (functions) that operate on the data into a single unit,              typically a class. It also restricts direct access to some of the object's components.Its purpose is to protect the integrity of an          object's data by restricting unauthorized access and modification.It provides control over how data is accessed or modified.Achieved         using classes and access modifiers."
   ]
  },
  {
   "cell_type": "markdown",
   "id": "8a818e9f-eeac-48fc-ab3e-20d0ba06c7e8",
   "metadata": {},
   "source": [
    "5.What are dunder methods in Python?\n",
    "  -> Dunder methods (short for double underscore methods) in Python are special methods that have names surrounded by double underscores,         such as __init__, __str__, and __add__. They are also called magic methods or special methods. These methods are predefined in Python        and enable developers to define the behavior of objects in specific contexts, such as object initialization, representation, and             arithmetic operations.\n",
    "     Example:   class MyList:\n",
    "                    def __init__(self, items):\n",
    "                        self.items = items\n",
    "                    def __getitem__(self, index):\n",
    "                        return self.items[index]\n",
    "                    def __len__(self):\n",
    "                        return len(self.items)\n",
    "                lst = MyList([1, 2, 3])\n",
    "                print(lst[1])  \n",
    "                print(len(lst))  \n"
   ]
  },
  {
   "cell_type": "markdown",
   "id": "0dc9d254-6a82-4f28-86ea-c08e190edcbd",
   "metadata": {},
   "source": [
    "6. Explain the concept of inheritance in OOP.\n",
    "   -> Inheritance is a fundamental concept in Object-Oriented Programming (OOP) that allows one class (called the child class or subclass)         to derive or inherit properties and behaviors from another class (called the parent class or superclass).It facilitates code reuse,          extensibility, and the creation of hierarchical relationships between classes.\n",
    "      Types of inheritance are:\n",
    "      1-Single inheritance:- A child class inherits from a single parent class.\n",
    "      2-Multiple Inheritance:- A child class inherits from more than one parent class.\n",
    "      3-Multilevel Inheritance:- A chain of inheritance where a class inherits from a child class, which in turn inherits from another class.\n",
    "      4-Hierarchical Inheritance:- Multiple child classes inherit from the same parent class.\n",
    "      Example:- class Animal:\n",
    "                    def eat(self):\n",
    "                        return \"This animal eats food.\"\n",
    "                class Dog(Animal):\n",
    "                    def bark(self):\n",
    "                        return \"This dog barks.\"\n",
    "                dog = Dog()\n",
    "                print(dog.eat())  \n",
    "                print(dog.bark()) \n"
   ]
  },
  {
   "cell_type": "markdown",
   "id": "77d67c50-1edd-4eec-a7c6-2bd1a913143e",
   "metadata": {},
   "source": [
    "7.What is polymorphism in OOP?\n",
    "  -> The word \"polymorphism\" comes from the Greek words poly (many) and morph (forms), meaning \"many forms\".It enables a single interface to      represent different underlying data types, allowing functions, methods, or objects to behave differently based on their input or             context. \n",
    "     Types of Polymorphism:-\n",
    "     1-Compile-Time Polymorphism (Static Polymorphism):Achieved through method overloading or operator overloading.The method to be invoked                                                         is determined at compile time.\n",
    "        Example:- class Math:\n",
    "                        def add(self, a, b, c=0):  \n",
    "                            return a + b + c\n",
    "                    math = Math()\n",
    "                    print(math.add(5, 3))      \n",
    "                    print(math.add(5, 3, 2))    \n",
    "     2-Run-Time Polymorphism (Dynamic Polymorphism):Achieved through method overriding.The method to be invoked is determined at runtime.\n",
    "       Example:-  class Animal:\n",
    "                        def sound(self):\n",
    "                            return \"Some generic sound\"\n",
    "                    class Dog(Animal):\n",
    "                        def sound(self):\n",
    "                            return \"Barks\"\n",
    "                    class Cat(Animal):\n",
    "                        def sound(self):\n",
    "                            return \"Meows\"\n",
    "                    def make_sound(animal):\n",
    "                        print(animal.sound())\n",
    "                    dog = Dog()\n",
    "                    cat = Cat()\n",
    "                    make_sound(dog)  # Output: Barks\n",
    "                    make_sound(cat)  # Output: Meows\n"
   ]
  },
  {
   "cell_type": "markdown",
   "id": "85d83ae7-b24d-4dc8-b276-31dc7b31ddc2",
   "metadata": {},
   "source": [
    "8. How is encapsulation achieved in Python?\n",
    "   -> Encapsulation in Python is achieved by bundling data (attributes) and methods (functions) that operate on the data into a single unit,       typically a class, and by restricting access to some of an object's components to protect its integrity and prevent unauthorized             modificationPython provides access control through naming conventions for attributes and methods, which can be public, protected, or         private.\n",
    "      Example:- class Car:\n",
    "                    def __init__(self, make, model):\n",
    "                        self.make = make  # Public attribute\n",
    "                        self.model = model  # Public attribute\n",
    "                car = Car(\"Toyota\", \"Camry\")\n",
    "                print(car.make)  # Output: Toyota\n",
    "                print(car.model)  # Output: Camry\n"
   ]
  },
  {
   "cell_type": "markdown",
   "id": "68856629-e483-47ed-98bc-8972f83022cf",
   "metadata": {},
   "source": [
    "9. What is a constructor in Python?\n",
    "   -> A constructor in Python is a special method used to initialize an object when it is created. It is automatically invoked when a new          instance of a class is instantiated.In Python, the constructor method is named __init__, and it is part of Python's dunder (double           underscore) methods. The primary purpose of a constructor is to initialize the attributes of the class with default or user-specified        values.\n",
    "      Example:- class Person:\n",
    "                        def __init__(self, name, age):  # Constructor\n",
    "                            self.name = name           # Initialize instance attributes\n",
    "                            self.age = age\n",
    "                        def display_info(self):\n",
    "                            return f\"Name: {self.name}, Age: {self.age}\"\n",
    "                    person1 = Person(\"Alice\", 30)\n",
    "                    print(person1.display_info())  \n"
   ]
  },
  {
   "cell_type": "markdown",
   "id": "41e76c84-00a1-4e30-82b7-451c6db62fe4",
   "metadata": {},
   "source": [
    "10. What are class and static methods in Python?\n",
    "    -> A class method is a method that operates on the class itself rather than on an instance of the class. It is used to access or modify         class-level data and is bound to the class, not the object.\n",
    "       Example:- class Employee:\n",
    "                    company_name = \"TechCorp\"  # Class-level attribute\n",
    "                    @classmethod\n",
    "                    def change_company_name(cls, new_name):\n",
    "                        cls.company_name = new_name\n",
    "                print(Employee.company_name)  \n",
    "                Employee.change_company_name(\"InnovateInc\")\n",
    "                print(Employee.company_name) \n",
    "       A static method is a method that does not operate on an instance or the class itself. It behaves like a regular function but is              contained within a class. Static methods are used when functionality is related to the class but doesn't need access to instance or          class attributes.\n",
    "       Example:-  class MathOperations:\n",
    "                        @staticmethod\n",
    "                        def add(a, b):\n",
    "                            return a + b\n",
    "                    print(MathOperations.add(5, 3))  "
   ]
  },
  {
   "cell_type": "markdown",
   "id": "ecf5da71-156c-493d-bc82-681f3ac7d375",
   "metadata": {},
   "source": [
    "11.What is method overloading in Python?\n",
    "   -> Method overloading in Python refers to the ability to define multiple methods with the same name but different parameters. However,          unlike some other programming languages (e.g., Java or C++), Python does not support method overloading natively. Instead, Python            achieves a similar effect using techniques like default arguments, variable-length arguments (*args and **kwargs), or manually               differentiating behavior based on parameter types or counts.\n",
    "      Example:- class Calculator:\n",
    "                    def add(self, *args):\n",
    "                        return sum(args)\n",
    "                calc = Calculator()\n",
    "                print(calc.add(5))            \n",
    "                print(calc.add(5, 3))         \n",
    "                print(calc.add(5, 3, 2, 1))  \n"
   ]
  },
  {
   "cell_type": "markdown",
   "id": "6dd7aaf3-ce10-419d-9940-5a5b5d86ced6",
   "metadata": {},
   "source": [
    "12.What is method overriding in OOP?\n",
    "   -> Method overriding in Object-Oriented Programming (OOP) is a feature that allows a subclass to provide a specific implementation for a        method that is already defined in its superclass. When a method is overridden, the subclass version of the method is invoked instead         of the superclass version, provided that the method is called on a subclass object.\n",
    "      Example:-     class Animal:\n",
    "                        def speak(self):\n",
    "                            return \"Animal makes a sound\"\n",
    "                    class Dog(Animal):\n",
    "                        def speak(self):\n",
    "                            return \"Dog barks\"\n",
    "                    class Cat(Animal):\n",
    "                        def speak(self):\n",
    "                            return \"Cat meows\"       \n",
    "                    animals = [Animal(), Dog(), Cat()]\n",
    "                    for animal in animals:\n",
    "                        print(animal.speak())\n"
   ]
  },
  {
   "cell_type": "markdown",
   "id": "ba60f2b8-4bb4-42de-b1e5-bb127dbca921",
   "metadata": {},
   "source": [
    "13. What is a property decorator in Python?\n",
    "    -> The property decorator in Python (@property) is a built-in feature that allows you to define methods in a class that can be accessed         like attributes. It is used to create managed attributes—attributes whose access or modification triggers specific behavior.The              @property decorator is commonly used for implementing getter, setter, and deleter methods in a clean and Pythonic way without                explicitly calling methods like get_x() or set_x().\n",
    "        Example:- class Circle:\n",
    "                        def __init__(self, radius):\n",
    "                            self._radius = radius  # Private attribute\n",
    "                        @property\n",
    "                        def radius(self):\n",
    "                            \"\"\"Getter for radius.\"\"\"\n",
    "                            return self._radius\n",
    "                        @radius.setter\n",
    "                        def radius(self, value):\n",
    "                            \"\"\"Setter for radius.\"\"\"\n",
    "                            if value < 0:\n",
    "                                raise ValueError(\"Radius cannot be negative\")\n",
    "                            self._radius = value\n",
    "                        @property\n",
    "                        def area(self):\n",
    "                            \"\"\"Read-only property for the area.\"\"\"\n",
    "                            return 3.14159 * (self._radius ** 2)\n",
    "                    circle = Circle(5)\n",
    "                    print(circle.radius)  \n",
    "                    print(circle.area)   \n",
    "                    circle.radius = 10   \n",
    "                    print(circle.radius) \n",
    "                    print(circle.area)   \n"
   ]
  },
  {
   "cell_type": "markdown",
   "id": "263a2adf-e92c-4c7e-8935-89e140503688",
   "metadata": {},
   "source": [
    "14. Why is polymorphism important in OOP?\n",
    "    -> Polymorphism is a fundamental concept in Object-Oriented Programming (OOP) that enables objects of different classes to be treated as        objects of a common base class. It is derived from the Greek words \"poly\" (many) and \"morph\" (forms), meaning \"many forms.\"\n",
    "       In OOP, polymorphism is important because it allows a single interface to represent different underlying forms (data types or                objects). This capability brings several key benefits to software development such as code reuseability, flexibility and                     extensibility,promotes abstraction and simplifies maintenance."
   ]
  },
  {
   "cell_type": "markdown",
   "id": "711b7248-40ab-4fa1-902e-07847106cdc9",
   "metadata": {},
   "source": [
    "15.What is an abstract class in Python?\n",
    "   -> An abstract class in Python is a class that cannot be instantiated directly. It serves as a blueprint for other classes. Abstract            classes allow you to define a common interface (methods) that must be implemented by any subclass. These methods, known as abstract          methods, are declared in the abstract class but contain no implementation. Subclasses are required to implement these abstract               methods, providing their specific functionality.Python provides the abc (Abstract Base Class) module to define abstract classes.\n",
    "      Example:- from abc import ABC, abstractmethod\n",
    "                            class Animal(ABC):\n",
    "                                @abstractmethod\n",
    "                                def sound(self):\n",
    "                                    pass\n",
    "                                @abstractmethod\n",
    "                                def move(self):\n",
    "                                    pass\n",
    "                            class Dog(Animal):\n",
    "                                def sound(self):\n",
    "                                    return \"Bark\"\n",
    "                                def move(self):\n",
    "                                    return \"Run\"\n",
    "                            class Bird(Animal):\n",
    "                                def sound(self):\n",
    "                                    return \"Chirp\" \n",
    "                                def move(self):\n",
    "                                    return \"Fly\"\n",
    "                            dog = Dog()\n",
    "                            print(dog.sound()) \n",
    "                            print(dog.move())  \n",
    "                            bird = Bird()\n",
    "                            print(bird.sound())  \n",
    "                            print(bird.move())   \n"
   ]
  },
  {
   "cell_type": "markdown",
   "id": "e7171f88-176c-4ed9-9dea-413207df6080",
   "metadata": {},
   "source": [
    "16. What are the advantages of OOP?\n",
    "    -> The advantages are:\n",
    "       1-Modularity:\tAllows for independent, isolated code modules.\n",
    "       2-Code Reusability:\tReuse and extend existing classes.\n",
    "       3-Encapsulation:\tProtects data by controlling access to attributes.\n",
    "       4-Abstraction:\tHides complex implementation details, focusing on high-level functionality.\n",
    "       5-Inheritance:\tPromotes code reuse and relationships between classes.\n",
    "       6-Polymorphism:\tEnables flexibility by allowing methods to behave differently based on the object.\n",
    "       7-Easier Maintenance:\tSimplifies updates and bug fixes by isolating changes.\n",
    "       8-Improved Collaboration:\tEnhances teamwork by allowing developers to work on independent modules.\n",
    "       9-Scalability and Extensibility:\tFacilitates growth and the addition of new features to applications.\n",
    "       10-Real-World Mapping:\tReflects real-world entities, making systems easier to understand and design."
   ]
  },
  {
   "cell_type": "markdown",
   "id": "81345717-52d3-4fd4-a8b2-bdff7109c23c",
   "metadata": {},
   "source": [
    "17.What is the difference between a class variable and an instance variable?\n",
    "   -> Class Variable:- A class variable is a variable that is shared among all instances of a class. It is defined inside the class but            outside any methods (typically at the top of the class). Class variables are shared across all instances of the class, meaning that if       one instance modifies a class variable, it will be reflected across all instances.Class variables are accessed through the class name        as well as through instances (although modifying them through instances is generally not recommended).Class variables are used for           values that should be shared by all instances of a class, such as constants or counters.\n",
    "      Example:-  class MyClass:\n",
    "                class_variable = \"Shared Value\"\n",
    "            print(MyClass.class_variable)  \n",
    "            instance1 = MyClass()\n",
    "            instance2 = MyClass()\n",
    "            print(instance1.class_variable)  \n",
    "            MyClass.class_variable = \"New Value\"\n",
    "            print(instance1.class_variable)\n",
    "      Instance Variables:-Instance variables are unique to each instance of a class. They belong to the object (instance) itself.Defined           within instance methods, typically in the __init__ method, and prefixed with self.Changes to an instance variable affect only that           particular instance.Accessed using the instance (e.g., instance.variable).Used to store data that is unique to each instance.\n",
    "      Example:-  class MyClass:\n",
    "                    def __init__(self, value):\n",
    "                        self.instance_variable = value\n",
    "                instance1 = MyClass(\"Value 1\")\n",
    "                instance2 = MyClass(\"Value 2\")\n",
    "                print(instance1.instance_variable)  \n",
    "                print(instance2.instance_variable)  \n",
    "                instance1.instance_variable = \"Updated Value\"\n",
    "                print(instance1.instance_variable)  \n",
    "                print(instance2.instance_variable)  \n"
   ]
  },
  {
   "cell_type": "markdown",
   "id": "c4830c21-5002-4baa-a634-750c2e46e67d",
   "metadata": {},
   "source": [
    "18. What is multiple inheritance in Python?\n",
    "    -> Multiple inheritance in Python refers to the ability of a class to inherit attributes and methods from more than one parent class.           This allows a subclass to combine functionality from multiple parent classes, enabling code reuse and flexibility.\n",
    "       Example:-    class Animal:\n",
    "                        def speak(self):\n",
    "                            print(\"Animal speaks\")\n",
    "                    class Mammal(Animal):\n",
    "                        def walk(self):\n",
    "                            print(\"Mammal walks\")\n",
    "                    class Bird(Animal):\n",
    "                        def fly(self):\n",
    "                            print(\"Bird flies\")\n",
    "                    class Bat(Mammal, Bird):\n",
    "                        def echo(self):\n",
    "                            print(\"Bat uses echolocation\")\n",
    "                    bat = Bat()\n",
    "                    bat.speak()  \n",
    "                    bat.walk()   \n",
    "                    bat.fly()    \n",
    "                    bat.echo()   \n"
   ]
  },
  {
   "cell_type": "markdown",
   "id": "4974211c-9074-45fa-8850-4f1eb97c945e",
   "metadata": {},
   "source": [
    "19.Explain the purpose of ‘’__str__’ and ‘__repr__’ ‘ methods in Python.\n",
    "   ->In Python, the __str__ and __repr__ methods are special methods used to define string representations of objects. They serve different       purposes and are invoked in distinct contexts.\n",
    "     1-__repr__: The Official String Representation, its purpose is to provide an official string representation of the object that is                        primarily for developers.It should ideally be unambiguous and, if possible, include enough information to recreate the                       object.Called when you use the repr() function or when the object is printed in an interpreter session.The representation                    should be precise and helpful for debugging.A common convention is to return a string that looks like a valid Python                         expression for recreating the object.\n",
    "       Example:-  class Point:\n",
    "                        def __init__(self, x, y):\n",
    "                            self.x = x\n",
    "                            self.y = y\n",
    "                        def __repr__(self):\n",
    "                            return f\"Point(x={self.x}, y={self.y})\"\n",
    "                    point = Point(3, 4)\n",
    "                    print(repr(point))\n",
    "      2-__str__: The Informal String Representation,its purpose is to provide a user-friendly or readable string representation of the                        object.This is intended for end-users.Called when you use the str() function or print() on the object.Focus on readability                   rather than technical details.This string is often less detailed than __repr__.\n",
    "        Example:-  class Point:\n",
    "                        def __init__(self, x, y):\n",
    "                            self.x = x\n",
    "                            self.y = y\n",
    "                        def __str__(self):\n",
    "                            return f\"Point at ({self.x}, {self.y})\"\n",
    "                    point = Point(3, 4)\n",
    "                    print(str(point)) \n",
    "                    print(point)       "
   ]
  },
  {
   "cell_type": "markdown",
   "id": "45bd55b0-64d7-497d-a833-93b04addf680",
   "metadata": {},
   "source": [
    "20. What is the significance of the ‘super()’ function in Python?\n",
    "    -> The super() function in Python is a built-in function used to give access to methods of a parent or sibling class. It is commonly            used in the context of inheritance to call a method from the parent class, especially within overridden methods in the child class.\n",
    "       Key Significance of super() function are:-\n",
    "       1- Avoid Direct Parent Class References\n",
    "       2-Facilitates Method Resolution Order (MRO)\n",
    "       3-Supports Cooperative Multiple Inheritance\n",
    "       4-Reduces Redundancy\n",
    "      Example:- class Parent:\n",
    "                    def greet(self):\n",
    "                        print(\"Hello from Parent\")\n",
    "                class Child(Parent):\n",
    "                    def greet(self):\n",
    "                        super().greet()  # Call the parent class's greet method\n",
    "                        print(\"Hello from Child\")\n",
    "                child = Child()\n",
    "                child.greet()"
   ]
  },
  {
   "cell_type": "markdown",
   "id": "d469c088-1ab3-42af-81b1-73385f011a4b",
   "metadata": {},
   "source": [
    "21.What is the significance of the __del__ method in Python?\n",
    "   -> The __del__ method in Python is a special method, also known as a destructor, that is called when an object is about to be destroyed.        It allows you to define cleanup behavior for the object, such as releasing resources, closing files, or logging when the object is           garbage-collected.\n",
    "      Key Features of __del__ are:\n",
    "      1- Triggered Automatically\n",
    "      2- Resource Cleanup\n",
    "      3- Custom Finalization\n",
    "      Example:-  class ResourceHandler:\n",
    "                        def __init__(self, resource_name):\n",
    "                            self.resource_name = resource_name\n",
    "                            print(f\"Acquiring resource: {self.resource_name}\")\n",
    "                        def __del__(self):\n",
    "                            print(f\"Releasing resource: {self.resource_name}\")\n",
    "                    handler = ResourceHandler(\"File.txt\")\n",
    "                    del handler"
   ]
  },
  {
   "cell_type": "markdown",
   "id": "683abb23-35fc-428a-b3e0-18c6f41eec0f",
   "metadata": {},
   "source": [
    "22. What is the difference between @staticmethod and @classmethod in Python?\n",
    "    -> 1. @staticmethod:- A static method does not depend on the class or any instance. It is like a regular function but is included within                           a class for organizational purposes.Static methods do not receive any implicit argument                                                      like self or cls.Used for utility functions that are related to the class but do not require access to the class                             or instance.\n",
    "           Example:- class MyClass:\n",
    "                        @staticmethod\n",
    "                        def add(a, b):\n",
    "                            return a + b\n",
    "                    result = MyClass.add(5, 3)\n",
    "                    print(result)  \n",
    "       2. @classmethod:-A class method is bound to the class, not the instance. It receives the class itself (cls) as its first implicit                             argument.Class methods receive cls as their first parameter, which represents the class itself and can be used to                            access or modify class-level data.Used to create factory methods, manipulate class-level attributes, or implement                            polymorphic behaviors.\n",
    "          Example:-  class MyClass:\n",
    "                        count = 0\n",
    "                        @classmethod\n",
    "                        def increment_count(cls):\n",
    "                            cls.count += 1\n",
    "                    MyClass.increment_count()\n",
    "                    print(MyClass.count) "
   ]
  },
  {
   "cell_type": "markdown",
   "id": "3adf2f70-b006-4289-b527-e32dfbd4c1fc",
   "metadata": {},
   "source": [
    "23.How does polymorphism work in Python with inheritance?\n",
    "   -> Polymorphism in Python allows objects of different classes to be treated as objects of a common superclass. It enables the same              operation to behave differently depending on the object's class, providing flexibility and extensibility in object-oriented                  programming.In Python, polymorphism is primarily achieved through inheritance and method overriding.\n",
    "      Polymorphism Example with Inheritance:-\n",
    "                class Animal:\n",
    "                    def speak(self):\n",
    "                        return \"Animal makes a sound\"  \n",
    "                class Dog(Animal):\n",
    "                    def speak(self):\n",
    "                        return \"Dog barks\"\n",
    "                class Cat(Animal):\n",
    "                    def speak(self):\n",
    "                        return \"Cat meows\"\n",
    "                def make_animal_speak(animal):\n",
    "                    print(animal.speak()) \n",
    "                dog = Dog()\n",
    "                cat = Cat()\n",
    "                make_animal_speak(dog) \n",
    "                make_animal_speak(cat)  \n"
   ]
  },
  {
   "cell_type": "markdown",
   "id": "d342b546-660e-4d47-9df4-6cdaaecbb075",
   "metadata": {},
   "source": [
    "24.What is method chaining in Python OOP?\n",
    "   -> Method chaining in Python is a technique in object-oriented programming where multiple methods are called on the same object in a            single statement. Each method returns the object itself (or another relevant object), allowing subsequent method calls to be \"chained\"       together.Each method in the chain returns the instance (self) of the object it is called on, enabling further method calls on the same       object.Methods are executed sequentially, from left to right.\n",
    "      Example:- class Person:\n",
    "                    def __init__(self, name):\n",
    "                        self.name = name\n",
    "                        self.age = None\n",
    "                        self.address = None            \n",
    "                    def set_age(self, age):\n",
    "                        self.age = age\n",
    "                        return self  # Return the instance to allow chaining            \n",
    "                    def set_address(self, address):\n",
    "                        self.address = address\n",
    "                        return self  # Return the instance to allow chaining\n",
    "                    def display_info(self):\n",
    "                        print(f\"Name: {self.name}, Age: {self.age}, Address: {self.address}\")\n",
    "                        return self  # Return the instance to allow chaining\n",
    "                person = Person(\"Alice\")\n",
    "                person.set_age(30).set_address(\"123 Main St\").display_info()"
   ]
  },
  {
   "cell_type": "markdown",
   "id": "e2e9d41f-f662-4e77-b846-17003273860f",
   "metadata": {},
   "source": [
    "25. What is the purpose of the __call__ method in Python?\n",
    "    ->The __call__ method in Python is a special method that allows an instance of a class to be called as if it were a regular function.          This makes the instance itself callable and enables customization of its behavior when it is invoked like a function.\n",
    "      Example:-  class Greeter:\n",
    "                    def __init__(self, greeting):\n",
    "                        self.greeting = greeting\n",
    "                    def __call__(self, name):\n",
    "                        return f\"{self.greeting}, {name}!\"\n",
    "                greeter = Greeter(\"Hello\")\n",
    "                print(greeter(\"Alice\")) \n",
    "                print(greeter(\"Bob\"))    "
   ]
  },
  {
   "cell_type": "markdown",
   "id": "718e0e8f-920d-4945-a41d-38ef80362529",
   "metadata": {},
   "source": [
    "Practical Questions:-"
   ]
  },
  {
   "cell_type": "code",
   "execution_count": 52,
   "id": "a006671b-b707-4c9c-a263-1ef800daa8cb",
   "metadata": {},
   "outputs": [
    {
     "name": "stdout",
     "output_type": "stream",
     "text": [
      "This is a generic animal sound.\n",
      "Bark!\n"
     ]
    }
   ],
   "source": [
    "#1.Create a parent class Animal with a method speak() that prints a generic message. Create a child class Dog that overrides the speak()method to print \"Bark!\"\n",
    "class Animal:\n",
    "    def speak(self):\n",
    "        print(\"This is a generic animal sound.\")\n",
    "\n",
    "class Dog(Animal):\n",
    "    def speak(self):\n",
    "        print(\"Bark!\")\n",
    "animal = Animal()\n",
    "dog = Dog()\n",
    "animal.speak()  \n",
    "dog.speak()    "
   ]
  },
  {
   "cell_type": "code",
   "execution_count": 14,
   "id": "59440c1f-504a-41a0-8a68-d6b16a12410c",
   "metadata": {},
   "outputs": [
    {
     "name": "stdout",
     "output_type": "stream",
     "text": [
      "Area of Circle: 78.53981633974483\n",
      "Area of Rectangle: 24\n"
     ]
    }
   ],
   "source": [
    "#2.Write a program to create an abstract class Shape with a method area(). Derive classes Circle and Rectangle from it and implement the area() method in both.\n",
    "from abc import ABC, abstractmethod\n",
    "import math\n",
    "class Shape(ABC):\n",
    "    @abstractmethod\n",
    "    def area(self):\n",
    "        pass\n",
    "\n",
    "class Circle(Shape):\n",
    "    def __init__(self, radius):\n",
    "        self.radius = radius\n",
    "    def area(self):\n",
    "        return math.pi * self.radius * self.radius\n",
    "\n",
    "class Rectangle(Shape):\n",
    "    def __init__(self, width, height):\n",
    "        self.width = width\n",
    "        self.height = height\n",
    "    def area(self):\n",
    "        return self.width * self.height\n",
    "\n",
    "circle = Circle(5)\n",
    "rectangle = Rectangle(4, 6)\n",
    "print(\"Area of Circle:\", circle.area())\n",
    "print(\"Area of Rectangle:\", rectangle.area())\n"
   ]
  },
  {
   "cell_type": "code",
   "execution_count": 50,
   "id": "615bfdbe-38d8-41e1-80b6-b297bef9468c",
   "metadata": {},
   "outputs": [
    {
     "name": "stdout",
     "output_type": "stream",
     "text": [
      "Vehicle Type: Electric\n",
      "Car Brand: Tesla\n",
      "Car Model: Model S\n",
      "Battery Capacity: 100 kWh\n"
     ]
    }
   ],
   "source": [
    "#3.Implement a multi-level inheritance scenario where a class Vehicle has an attribute type. Derive a class Car and further derive a class ElectricCar that adds a battery attribute\n",
    "class Vehicle:\n",
    "    def __init__(self, vehicle_type):\n",
    "        self.vehicle_type = vehicle_type\n",
    "    def display_type(self):\n",
    "        print(f\"Vehicle Type: {self.vehicle_type}\")\n",
    "\n",
    "class Car(Vehicle):\n",
    "    def __init__(self, vehicle_type, brand, model):\n",
    "        super().__init__(vehicle_type)\n",
    "        self.brand = brand\n",
    "        self.model = model\n",
    "    def display_car_info(self):\n",
    "        print(f\"Car Brand: {self.brand}\")\n",
    "        print(f\"Car Model: {self.model}\")\n",
    "\n",
    "class ElectricCar(Car):\n",
    "    def __init__(self, vehicle_type, brand, model, battery_capacity):\n",
    "        super().__init__(vehicle_type, brand, model)\n",
    "        self.battery_capacity = battery_capacity\n",
    "    def display_electric_car_info(self):\n",
    "        self.display_type()\n",
    "        self.display_car_info()\n",
    "        print(f\"Battery Capacity: {self.battery_capacity} kWh\")\n",
    "\n",
    "tesla = ElectricCar(\"Electric\", \"Tesla\", \"Model S\", 100)\n",
    "tesla.display_electric_car_info()\n"
   ]
  },
  {
   "cell_type": "code",
   "execution_count": 18,
   "id": "3fef38e5-7c67-4bf1-bad1-94a96d36bf78",
   "metadata": {},
   "outputs": [
    {
     "name": "stdout",
     "output_type": "stream",
     "text": [
      "Vehicle Type: Electric\n",
      "Car Brand: Tesla\n",
      "Battery Capacity: 100 kWh\n"
     ]
    }
   ],
   "source": [
    "#4. Implement a multi-level inheritance scenario where a class Vehicle has an attribute type. Derive a class Car and further derive a class ElectricCar that adds a battery attribute.\n",
    "class Vehicle:\n",
    "    def __init__(self, vehicle_type):\n",
    "        self.vehicle_type = vehicle_type\n",
    "    def display_type(self):\n",
    "        print(f\"Vehicle Type: {self.vehicle_type}\")\n",
    "\n",
    "class Car(Vehicle):\n",
    "    def __init__(self, vehicle_type, brand):\n",
    "        super().__init__(vehicle_type)\n",
    "        self.brand = brand\n",
    "    def display_car_info(self):\n",
    "        print(f\"Car Brand: {self.brand}\")\n",
    "\n",
    "class ElectricCar(Car):\n",
    "    def __init__(self, vehicle_type, brand, battery_capacity):\n",
    "        super().__init__(vehicle_type, brand)\n",
    "        self.battery_capacity = battery_capacity\n",
    "    def display_electric_car_info(self):\n",
    "        self.display_type()\n",
    "        self.display_car_info()\n",
    "        print(f\"Battery Capacity: {self.battery_capacity} kWh\")\n",
    "\n",
    "tesla = ElectricCar(\"Electric\", \"Tesla\", 100)\n",
    "tesla.display_electric_car_info()"
   ]
  },
  {
   "cell_type": "code",
   "execution_count": 20,
   "id": "6d8c9995-9dfc-4669-ab63-cf61126310d4",
   "metadata": {},
   "outputs": [
    {
     "name": "stdout",
     "output_type": "stream",
     "text": [
      "Current Balance: $100.00\n",
      "Deposited: $50.00\n",
      "Current Balance: $150.00\n",
      "Withdrawn: $30.00\n",
      "Current Balance: $120.00\n",
      "Insufficient balance!\n",
      "Current Balance: $120.00\n"
     ]
    }
   ],
   "source": [
    "#5. Write a program to demonstrate encapsulation by creating a class BankAccount with private attributes balance and methods to deposit, withdraw, and check balance.\n",
    "class BankAccount:\n",
    "    def __init__(self, initial_balance=0):\n",
    "        self.__balance = initial_balance\n",
    "\n",
    "    def deposit(self, amount):\n",
    "        if amount > 0:\n",
    "            self.__balance += amount\n",
    "            print(f\"Deposited: ${amount:.2f}\")\n",
    "        else:\n",
    "            print(\"Deposit amount must be positive!\")\n",
    "\n",
    "    def withdraw(self, amount):\n",
    "        if amount > self.__balance:\n",
    "            print(\"Insufficient balance!\")\n",
    "        elif amount <= 0:\n",
    "            print(\"Withdrawal amount must be positive!\")\n",
    "        else:\n",
    "            self.__balance -= amount\n",
    "            print(f\"Withdrawn: ${amount:.2f}\")\n",
    "\n",
    "    def check_balance(self):\n",
    "        print(f\"Current Balance: ${self.__balance:.2f}\")\n",
    "\n",
    "account = BankAccount(100)\n",
    "account.check_balance() \n",
    "account.deposit(50)      \n",
    "account.check_balance() \n",
    "account.withdraw(30)     \n",
    "account.check_balance()  \n",
    "account.withdraw(200)    \n",
    "account.check_balance()  \n"
   ]
  },
  {
   "cell_type": "code",
   "execution_count": 22,
   "id": "9fa4423c-7f74-4181-abd7-918beb1a03b1",
   "metadata": {},
   "outputs": [
    {
     "name": "stdout",
     "output_type": "stream",
     "text": [
      "Playing the guitar with melodious strumming sounds.\n",
      "Playing the piano with harmonious notes.\n"
     ]
    }
   ],
   "source": [
    "#6.Demonstrate runtime polymorphism using a method play() in a base class Instrument. Derive classes Guitar and Piano that implement their own version of play().\n",
    "class Instrument:\n",
    "    def play(self):\n",
    "        raise NotImplementedError(\"Subclasses must implement this method\")\n",
    "        \n",
    "class Guitar(Instrument):\n",
    "    def play(self):\n",
    "        print(\"Playing the guitar with melodious strumming sounds.\")\n",
    "\n",
    "class Piano(Instrument):\n",
    "    def play(self):\n",
    "        print(\"Playing the piano with harmonious notes.\")\n",
    "\n",
    "def perform(instrument):\n",
    "    instrument.play()\n",
    "\n",
    "guitar = Guitar()\n",
    "piano = Piano()\n",
    "perform(guitar) \n",
    "perform(piano)   "
   ]
  },
  {
   "cell_type": "code",
   "execution_count": 26,
   "id": "cb9031cb-9a43-4ddd-a7ee-55b5b2a4157a",
   "metadata": {},
   "outputs": [
    {
     "name": "stdout",
     "output_type": "stream",
     "text": [
      "Addition Result: 15\n",
      "Subtraction Result: 5\n"
     ]
    }
   ],
   "source": [
    "#7.Create a class MathOperations with a class method add_numbers() to add two numbers and a static method subtract_numbers() to subtract two numbers.\n",
    "class MathOperations:\n",
    "    @classmethod\n",
    "    def add_numbers(cls, a, b):\n",
    "        \"\"\"Class method to add two numbers\"\"\"\n",
    "        return a + b\n",
    "\n",
    "    @staticmethod\n",
    "    def subtract_numbers(a, b):\n",
    "        \"\"\"Static method to subtract two numbers\"\"\"\n",
    "        return a - b\n",
    "\n",
    "result_add = MathOperations.add_numbers(10, 5)\n",
    "print(f\"Addition Result: {result_add}\")\n",
    "result_subtract = MathOperations.subtract_numbers(10, 5)\n",
    "print(f\"Subtraction Result: {result_subtract}\")"
   ]
  },
  {
   "cell_type": "code",
   "execution_count": 28,
   "id": "57f5f098-eb75-4019-a6eb-d2008feeace9",
   "metadata": {},
   "outputs": [
    {
     "name": "stdout",
     "output_type": "stream",
     "text": [
      "Total Persons Created: 3\n"
     ]
    }
   ],
   "source": [
    "#8. Implement a class Person with a class method to count the total number of persons created.\n",
    "class Person:\n",
    "    total_persons = 0\n",
    "\n",
    "    def __init__(self, name, age):\n",
    "        self.name = name\n",
    "        self.age = age\n",
    "        Person.total_persons += 1\n",
    "\n",
    "    @classmethod\n",
    "    def get_total_persons(cls):\n",
    "        \"\"\"Class method to get the total number of persons created\"\"\"\n",
    "        return cls.total_persons\n",
    "\n",
    "p1 = Person(\"Alice\", 30)\n",
    "p2 = Person(\"Bob\", 25)\n",
    "p3 = Person(\"Charlie\", 35)\n",
    "print(f\"Total Persons Created: {Person.get_total_persons()}\") \n"
   ]
  },
  {
   "cell_type": "code",
   "execution_count": 30,
   "id": "73abe113-91f0-4886-b571-1317e7487e08",
   "metadata": {},
   "outputs": [
    {
     "name": "stdout",
     "output_type": "stream",
     "text": [
      "Fraction 1: 3/4\n",
      "Fraction 2: 5/6\n"
     ]
    }
   ],
   "source": [
    "#9. Write a class Fraction with attributes numerator and denominator. Override the str method to display the fraction as \"numerator/denominator\".\n",
    "class Fraction:\n",
    "    def __init__(self, numerator, denominator):\n",
    "        if denominator == 0:\n",
    "            raise ValueError(\"Denominator cannot be zero.\")\n",
    "        self.numerator = numerator\n",
    "        self.denominator = denominator\n",
    "\n",
    "    def __str__(self):\n",
    "        return f\"{self.numerator}/{self.denominator}\"\n",
    "\n",
    "f1 = Fraction(3, 4)\n",
    "f2 = Fraction(5, 6)\n",
    "print(f\"Fraction 1: {f1}\")  \n",
    "print(f\"Fraction 2: {f2}\")  "
   ]
  },
  {
   "cell_type": "code",
   "execution_count": 32,
   "id": "894ef1e1-e846-4fec-921c-4a9403d6b60a",
   "metadata": {},
   "outputs": [
    {
     "name": "stdout",
     "output_type": "stream",
     "text": [
      "Vector 1: Vector(2, 3)\n",
      "Vector 2: Vector(4, 5)\n"
     ]
    }
   ],
   "source": [
    "#10. Demonstrate operator overloading by creating a class Vector and overriding the add method to add two vectors.\n",
    "class Vector:\n",
    "    def __init__(self, x, y):\n",
    "        self.x = x\n",
    "        self.y = y\n",
    "\n",
    "    def __add__(self, other):\n",
    "        if not isinstance(other, Vector):\n",
    "            raise TypeError(\"Both operands must be of type Vector\")\n",
    "        return Vector(self.x + other.x, self.y + other.y)\n",
    "\n",
    "    def __str__(self):\n",
    "        return f\"Vector({self.x}, {self.y})\"\n",
    "\n",
    "v1 = Vector(2, 3)\n",
    "v2 = Vector(4, 5)\n",
    "v3 = v1 + v2\n",
    "print(f\"Vector 1: {v1}\")  \n",
    "print(f\"Vector 2: {v2}\")"
   ]
  },
  {
   "cell_type": "code",
   "execution_count": 34,
   "id": "f2570c1a-1fd8-4ec1-9579-dbb50bc6d918",
   "metadata": {},
   "outputs": [
    {
     "name": "stdout",
     "output_type": "stream",
     "text": [
      "Hello, my name is Alice and I am 30 years old.\n",
      "Hello, my name is Bob and I am 25 years old.\n"
     ]
    }
   ],
   "source": [
    "#11. Create a class Person with attributes name and age. Add a method greet() that prints \"Hello, my name is {name} and I am {age} years old.\"\n",
    "class Person:\n",
    "    def __init__(self, name, age):\n",
    "        self.name = name\n",
    "        self.age = age\n",
    "\n",
    "    def greet(self):\n",
    "        print(f\"Hello, my name is {self.name} and I am {self.age} years old.\")\n",
    "\n",
    "person1 = Person(\"Alice\", 30)\n",
    "person2 = Person(\"Bob\", 25)\n",
    "person1.greet()  \n",
    "person2.greet()  "
   ]
  },
  {
   "cell_type": "code",
   "execution_count": 36,
   "id": "f89d83ba-2fe7-4074-8d32-860fbc15a2ea",
   "metadata": {},
   "outputs": [
    {
     "name": "stdout",
     "output_type": "stream",
     "text": [
      "Alice's Average Grade: 86.25\n",
      "Bob's Average Grade: 75.00\n"
     ]
    }
   ],
   "source": [
    "#12. Implement a class Student with attributes name and grades. Create a method average_grade() to compute the average of the grades.\n",
    "class Student:\n",
    "    def __init__(self, name, grades):\n",
    "        self.name = name\n",
    "        self.grades = grades\n",
    "\n",
    "    def average_grade(self):\n",
    "        if not self.grades:\n",
    "            return 0 \n",
    "        return sum(self.grades) / len(self.grades)\n",
    "\n",
    "student1 = Student(\"Alice\", [85, 90, 78, 92])\n",
    "student2 = Student(\"Bob\", [70, 75, 80])\n",
    "print(f\"{student1.name}'s Average Grade: {student1.average_grade():.2f}\")  \n",
    "print(f\"{student2.name}'s Average Grade: {student2.average_grade():.2f}\")  \n"
   ]
  },
  {
   "cell_type": "code",
   "execution_count": 38,
   "id": "ae7e230d-3859-42a8-ab1b-0041b85708f9",
   "metadata": {},
   "outputs": [
    {
     "name": "stdout",
     "output_type": "stream",
     "text": [
      "Area of the rectangle: 40\n"
     ]
    }
   ],
   "source": [
    "#13. Create a class Rectangle with methods set_dimensions() to set the dimensions and area() to calculate the area.\n",
    "class Rectangle:\n",
    "    def __init__(self):\n",
    "        self.length = 0\n",
    "        self.width = 0\n",
    "\n",
    "    def set_dimensions(self, length, width):\n",
    "        \"\"\"Sets the dimensions of the rectangle.\"\"\"\n",
    "        self.length = length\n",
    "        self.width = width\n",
    "\n",
    "    def area(self):\n",
    "        \"\"\"Calculates and returns the area of the rectangle.\"\"\"\n",
    "        return self.length * self.width\n",
    "\n",
    "rectangle = Rectangle()\n",
    "rectangle.set_dimensions(8, 5)\n",
    "print(f\"Area of the rectangle: {rectangle.area()}\")  "
   ]
  },
  {
   "cell_type": "code",
   "execution_count": 40,
   "id": "a2fe4c3b-55f1-4407-8f23-a7b085369f10",
   "metadata": {},
   "outputs": [
    {
     "name": "stdout",
     "output_type": "stream",
     "text": [
      "Employee's Salary: $4000\n",
      "Manager's Salary: $5300\n"
     ]
    }
   ],
   "source": [
    "#14.Create a class Employee with a method calculate_salary() that computes the salary based on hours worked and hourly rate. Create a derived class Manager that adds a bonus to the salary.\n",
    "class Employee:\n",
    "    def __init__(self, name, hours_worked, hourly_rate):\n",
    "        self.name = name\n",
    "        self.hours_worked = hours_worked\n",
    "        self.hourly_rate = hourly_rate\n",
    "\n",
    "    def calculate_salary(self):\n",
    "        \"\"\"Calculates the salary based on hours worked and hourly rate\"\"\"\n",
    "        return self.hours_worked * self.hourly_rate\n",
    "\n",
    "class Manager(Employee):\n",
    "    def __init__(self, name, hours_worked, hourly_rate, bonus):\n",
    "        super().__init__(name, hours_worked, hourly_rate)\n",
    "        self.bonus = bonus\n",
    "\n",
    "    def calculate_salary(self):\n",
    "        \"\"\"Calculates the salary with a bonus added for the Manager\"\"\"\n",
    "        base_salary = super().calculate_salary()\n",
    "        return base_salary + self.bonus\n",
    "\n",
    "employee = Employee(\"John\", 160, 25)\n",
    "manager = Manager(\"Alice\", 160, 30, 500)\n",
    "print(f\"Employee's Salary: ${employee.calculate_salary()}\")  \n",
    "print(f\"Manager's Salary: ${manager.calculate_salary()}\")    "
   ]
  },
  {
   "cell_type": "code",
   "execution_count": 42,
   "id": "7e48cea0-752f-46d8-b5eb-585c89d08e76",
   "metadata": {},
   "outputs": [
    {
     "name": "stdout",
     "output_type": "stream",
     "text": [
      "Total price of Laptop: $3000\n",
      "Total price of Phone: $2500\n"
     ]
    }
   ],
   "source": [
    "#15.Create a class Product with attributes name, price, and quantity. Implement a method total_price() that calculates the total price of the product.\n",
    "class Product:\n",
    "    def __init__(self, name, price, quantity):\n",
    "        self.name = name\n",
    "        self.price = price\n",
    "        self.quantity = quantity\n",
    "    def total_price(self):\n",
    "        \"\"\"Calculates the total price of the product\"\"\"\n",
    "        return self.price * self.quantity\n",
    "product1 = Product(\"Laptop\", 1000, 3)\n",
    "product2 = Product(\"Phone\", 500, 5)\n",
    "print(f\"Total price of {product1.name}: ${product1.total_price()}\") \n",
    "print(f\"Total price of {product2.name}: ${product2.total_price()}\")  "
   ]
  },
  {
   "cell_type": "code",
   "execution_count": 44,
   "id": "a1c9fef2-61fe-47e1-96e1-97299d801452",
   "metadata": {},
   "outputs": [
    {
     "name": "stdout",
     "output_type": "stream",
     "text": [
      "Cow makes sound: Moo\n",
      "Sheep makes sound: Baa\n"
     ]
    }
   ],
   "source": [
    "#16.Create a class Animal with an abstract method sound(). Create two derived classes Cow and Sheep that implement the sound() method.\n",
    "from abc import ABC, abstractmethod\n",
    "class Animal(ABC):\n",
    "    @abstractmethod\n",
    "    def sound(self):\n",
    "        \"\"\"Abstract method that should be implemented by subclasses.\"\"\"\n",
    "        pass\n",
    "\n",
    "class Cow(Animal):\n",
    "    def sound(self):\n",
    "        \"\"\"Implementation of the sound method for Cow.\"\"\"\n",
    "        return \"Moo\"\n",
    "\n",
    "class Sheep(Animal):\n",
    "    def sound(self):\n",
    "        \"\"\"Implementation of the sound method for Sheep.\"\"\"\n",
    "        return \"Baa\"\n",
    "cow = Cow()\n",
    "sheep = Sheep()\n",
    "print(f\"Cow makes sound: {cow.sound()}\")  \n",
    "print(f\"Sheep makes sound: {sheep.sound()}\")  "
   ]
  },
  {
   "cell_type": "code",
   "execution_count": 46,
   "id": "60739ea6-8d22-4ff3-9032-df6062da4ab1",
   "metadata": {},
   "outputs": [
    {
     "name": "stdout",
     "output_type": "stream",
     "text": [
      "'To Kill a Mockingbird' by Harper Lee, published in 1960\n",
      "'1984' by George Orwell, published in 1949\n"
     ]
    }
   ],
   "source": [
    "#17.Create a class Book with attributes title, author, and year_published. Add a method get_book_info() that returns a formatted string with the book's details.\n",
    "class Book:\n",
    "    def __init__(self, title, author, year_published):\n",
    "        self.title = title\n",
    "        self.author = author\n",
    "        self.year_published = year_published\n",
    "\n",
    "    def get_book_info(self):\n",
    "        \"\"\"Returns a formatted string with the book's details\"\"\"\n",
    "        return f\"'{self.title}' by {self.author}, published in {self.year_published}\"\n",
    "        \n",
    "book1 = Book(\"To Kill a Mockingbird\", \"Harper Lee\", 1960)\n",
    "book2 = Book(\"1984\", \"George Orwell\", 1949)\n",
    "print(book1.get_book_info())  # Outputs: 'To Kill a Mockingbird' by Harper Lee, published in 1960\n",
    "print(book2.get_book_info())  # Outputs: '1984' by George Orwell, published in 1949"
   ]
  },
  {
   "cell_type": "code",
   "execution_count": 48,
   "id": "7b1d3d8e-9eb2-48c5-8c8b-780821f2263f",
   "metadata": {},
   "outputs": [
    {
     "name": "stdout",
     "output_type": "stream",
     "text": [
      "House located at 123 Elm Street, priced at $250000\n",
      "House located at 456 Maple Avenue, priced at $5000000, with 10 rooms\n"
     ]
    }
   ],
   "source": [
    "#18. Create a class House with attributes address and price. Create a derived class Mansion that adds an attribute number_of_rooms.\n",
    "class House:\n",
    "    def __init__(self, address, price):\n",
    "        self.address = address\n",
    "        self.price = price\n",
    "\n",
    "    def get_house_info(self):\n",
    "        \"\"\"Returns the basic information of the house\"\"\"\n",
    "        return f\"House located at {self.address}, priced at ${self.price}\"\n",
    "\n",
    "class Mansion(House):\n",
    "    def __init__(self, address, price, number_of_rooms):\n",
    "        # Call the constructor of the base class (House)\n",
    "        super().__init__(address, price)\n",
    "        self.number_of_rooms = number_of_rooms\n",
    "\n",
    "    def get_mansion_info(self):\n",
    "        \"\"\"Returns detailed information of the mansion, including number of rooms\"\"\"\n",
    "        base_info = super().get_house_info()  # Get information from the base class\n",
    "        return f\"{base_info}, with {self.number_of_rooms} rooms\"\n",
    "\n",
    "house = House(\"123 Elm Street\", 250000)\n",
    "mansion = Mansion(\"456 Maple Avenue\", 5000000, 10)\n",
    "print(house.get_house_info())  \n",
    "print(mansion.get_mansion_info())  "
   ]
  },
  {
   "cell_type": "code",
   "execution_count": null,
   "id": "9ae9c45d-7277-487c-94c8-4e31916ccdfe",
   "metadata": {},
   "outputs": [],
   "source": []
  }
 ],
 "metadata": {
  "kernelspec": {
   "display_name": "Python 3 (ipykernel)",
   "language": "python",
   "name": "python3"
  },
  "language_info": {
   "codemirror_mode": {
    "name": "ipython",
    "version": 3
   },
   "file_extension": ".py",
   "mimetype": "text/x-python",
   "name": "python",
   "nbconvert_exporter": "python",
   "pygments_lexer": "ipython3",
   "version": "3.12.7"
  }
 },
 "nbformat": 4,
 "nbformat_minor": 5
}
